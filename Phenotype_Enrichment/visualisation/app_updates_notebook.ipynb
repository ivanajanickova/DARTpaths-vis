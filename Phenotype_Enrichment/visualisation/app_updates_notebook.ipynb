{
 "cells": [
  {
   "cell_type": "markdown",
   "id": "fbc9302a",
   "metadata": {},
   "source": [
    "# Visualisation & Application "
   ]
  },
  {
   "cell_type": "markdown",
   "id": "1c86cba6",
   "metadata": {},
   "source": [
    "## Needed packages:"
   ]
  },
  {
   "cell_type": "code",
   "execution_count": 1,
   "id": "cc3d4b80",
   "metadata": {},
   "outputs": [],
   "source": [
    "import pandas as pd\n",
    "import numpy as np\n",
    "import plotly.express as px\n",
    "import dash\n",
    "import dash_cytoscape as cyto\n",
    "import dash_bootstrap_components as dbc\n",
    "from dash import html\n",
    "from dash import dcc\n",
    "from dash.dependencies import Input, Output\n",
    "import json\n",
    "from time import perf_counter\n",
    "import coordinates\n",
    "import db_retrieve"
   ]
  },
  {
   "cell_type": "markdown",
   "id": "023f53c2",
   "metadata": {},
   "source": [
    "## Some function:\n",
    "* to expand a dataframe\n",
    "* to load the dataframe into a graph"
   ]
  },
  {
   "cell_type": "markdown",
   "id": "1db108e4",
   "metadata": {},
   "source": [
    "### Expand the dataframe\n",
    "* wide dataframe\n",
    "* for every phenotype, the corresponding gene and ortholog"
   ]
  },
  {
   "cell_type": "code",
   "execution_count": 2,
   "id": "e3ba17eb",
   "metadata": {},
   "outputs": [],
   "source": [
    "def expand_dataframe(df: pd.DataFrame):\n",
    "    \"\"\"Function to expand dataframe, so each phenotype is in a separate row.\n",
    "    Returns new dataframe and the total number of genes\n",
    "\n",
    "    :param df: dataframe to expand\n",
    "    \"\"\"\n",
    "    df_1 = df.assign(phenotype=df['Enriched_Phenotypes'].astype(str).str.split(',')).explode('Enriched_Phenotypes')\n",
    "    df_2 = df_1[['Orthlog_Genes', 'Human_Gene', 'Organism', 'Enriched_Phenotypes']]\n",
    "    # get total number of genes\n",
    "    n_genes = set(df['Human_Gene'].tolist())\n",
    "    n = len(n_genes)  # total number of genes\n",
    "\n",
    "    return df_2, n"
   ]
  },
  {
   "cell_type": "markdown",
   "id": "dbc86774",
   "metadata": {},
   "source": [
    "### Load the dataframe into a graph (nodes and edges)"
   ]
  },
  {
   "cell_type": "code",
   "execution_count": 3,
   "id": "63ca1263",
   "metadata": {},
   "outputs": [],
   "source": [
    "def load_info_to_graph(dataframe: pd.DataFrame, metadata: pd.DataFrame, n_genes: int):\n",
    "    \"\"\" Function used to extract information from dataframe and load it into\n",
    "    nodes and edges list of dictionaries. For phenotype nodes, metadata is added as well\n",
    "\n",
    "    :param dataframe: dataframe with information about nodes and edges\n",
    "    :param metadata: dataframe with metadata of given pathway\n",
    "    :param n_genes: number of unique genes, necessary for y position determination\n",
    "    \"\"\"\n",
    "\n",
    "    # make nodes and edges\n",
    "    nodes_list = []\n",
    "    edges_list = []\n",
    "    nodes_set = set()  # to avoid duplication\n",
    "\n",
    "    # for node positions\n",
    "    count_n = 1  # count for x_pos of gene nodes\n",
    "    coordinates_ort = []\n",
    "    coordinates_phenotype = []\n",
    "\n",
    "    # Load data into nodes and edges\n",
    "    for index, row in dataframe.iterrows():\n",
    "        # source node is human gene\n",
    "        gene = str(row['Human_Gene'])\n",
    "        # target node is ortholog\n",
    "        ortholog = str(row['Orthlog_Genes'])\n",
    "        phenotype = str(row['Enriched_Phenotypes'])\n",
    "        organism = str(row['Organism'])\n",
    "        # add data and class info to the nodes\n",
    "        # gene node positions\n",
    "        # pos_x = 50  # always the same; set to 500 in case of large network\n",
    "        pos_x, pos_y = coordinates.gene_coordinate(1, n_genes, count_n)\n",
    "        cy_gene = {'data': {'id': gene,\n",
    "                            'indent': 'gene',   #add\n",
    "                            'label': gene,\n",
    "                            'size': 4,\n",
    "                            'fontsize': '1.5px'},\n",
    "                   'classes': 'blue',\n",
    "                   'selectable': True, #Allow selected\n",
    "                   'position': {'x': pos_x, 'y': pos_y}}\n",
    "\n",
    "        # ortholog node\n",
    "        pos_x_ortholog, pos_y_ortholog = coordinates.check_coordinates(coordinates_ort, pos_y, n_genes, 20, 45, 55, 80)\n",
    "        if ortholog != \"NaN\":\n",
    "            cy_ortholog = {'data': {'id': ortholog,\n",
    "                                    'label': ortholog,\n",
    "                                    'indent': 'ortholog', #add\n",
    "                                    'size': 2,\n",
    "                                    'fontsize': '1px',\n",
    "                                    'organism': organism},\n",
    "                           'classes': 'ortholog', #add\n",
    "                           'selectable': True,    #Allow selected\n",
    "                           'position': {'x': pos_x_ortholog, 'y': pos_y_ortholog}}\n",
    "            cy_edge = {\n",
    "                'data': {'id': gene + ortholog,\n",
    "                         'source': gene,\n",
    "                         'target': ortholog,\n",
    "                         'width': '0.25',\n",
    "                         'color': '#696969'}}\n",
    "\n",
    "        # add genes and orthologs to set nodes and cy nodes\n",
    "        if gene not in nodes_set:\n",
    "            nodes_set.add(gene)\n",
    "            nodes_list.append(cy_gene)\n",
    "            count_n += 1\n",
    "\n",
    "        if ortholog not in nodes_set:\n",
    "            nodes_set.add(ortholog)\n",
    "            nodes_list.append(cy_ortholog)\n",
    "        edges_list.append(cy_edge)\n",
    "\n",
    "        if phenotype != \"None\": # get rid of None node\n",
    "            metadata_phenotype = metadata.get(phenotype)  # load metadata\n",
    "            # phenotype node\n",
    "            pos_x_phenotype, pos_y_phenotype = coordinates.check_coordinates(coordinates_phenotype, pos_y, n_genes, 0, 20, 80, 100)\n",
    "\n",
    "            cy_phenotype = {'data': {'id': phenotype,\n",
    "                                     'label': phenotype,\n",
    "                                     'indent': 'phenotype',\n",
    "                                     'metadata': metadata_phenotype,\n",
    "                                     'size': 1,\n",
    "                                     'fontsize': '0.5px'},\n",
    "                            'classes': 'purple',\n",
    "                            'selectable': True,  #Allow selected\n",
    "                            'grabbable': False,   #Not allow grab for now\n",
    "                            'position': {'x': pos_x_phenotype, 'y': pos_y_phenotype}}\n",
    "            cy_edge_2 = {'data': {'id': ortholog + phenotype,\n",
    "                                  'source': ortholog,\n",
    "                                  'target': phenotype,\n",
    "                                  'width': '0.10',\n",
    "                                  'color': '#B8B8B8'}}\n",
    "\n",
    "            if phenotype not in nodes_set:\n",
    "                nodes_set.add(phenotype)\n",
    "                nodes_list.append(cy_phenotype)\n",
    "\n",
    "            edges_list.append(cy_edge_2)\n",
    "    return nodes_list, edges_list"
   ]
  },
  {
   "cell_type": "markdown",
   "id": "ce41dccf",
   "metadata": {},
   "source": [
    "## Load Data:\n",
    "* The list of pathways we have so far:\n",
    "    * Phase2ConjugationOfCompounds (highest)\n",
    "    * Phase1CompundFunctionalization (1 level down)\n",
    "    * AmineOxidase (lowest)\n",
    "    * AminoAcidConjugation (lowest)\n",
    "    * EthanolOxidation (lowest)\n",
    "    * AHR (lowest)"
   ]
  },
  {
   "cell_type": "code",
   "execution_count": 4,
   "id": "28f3287a",
   "metadata": {},
   "outputs": [
    {
     "name": "stdout",
     "output_type": "stream",
     "text": [
      "Print each row and it's columns values\n",
      "PostgreSQL connection is closed\n",
      "PostgreSQL connection is closed\n"
     ]
    }
   ],
   "source": [
    "# upper level\n",
    "upper_df1 = db_retrieve.select_from_enrichment_results(\"Phase1CompundFunctionalization\")\n",
    "upper_df_1, upper_N_genes_1 = expand_dataframe(upper_df1)\n",
    "metadata = db_retrieve.select_from_metadata(\"Phase1CompundFunctionalization\")"
   ]
  },
  {
   "cell_type": "code",
   "execution_count": 5,
   "id": "cd8d16c6",
   "metadata": {},
   "outputs": [
    {
     "name": "stdout",
     "output_type": "stream",
     "text": [
      "Print each row and it's columns values\n",
      "PostgreSQL connection is closed\n",
      "PostgreSQL connection is closed\n"
     ]
    }
   ],
   "source": [
    "#AHR\n",
    "gene_df1 = db_retrieve.select_from_enrichment_results(\"AHR\")               #gene_df1 (type = pandas.core.frame.DataFrame)\n",
    "gene_df_1, N_genes_1 = expand_dataframe(gene_df1) \n",
    "metadata1 = db_retrieve.select_from_metadata(\"AHR\")                       #metadata1\n"
   ]
  },
  {
   "cell_type": "code",
   "execution_count": 6,
   "id": "419fc6ff",
   "metadata": {},
   "outputs": [
    {
     "data": {
      "text/html": [
       "<div>\n",
       "<style scoped>\n",
       "    .dataframe tbody tr th:only-of-type {\n",
       "        vertical-align: middle;\n",
       "    }\n",
       "\n",
       "    .dataframe tbody tr th {\n",
       "        vertical-align: top;\n",
       "    }\n",
       "\n",
       "    .dataframe thead th {\n",
       "        text-align: right;\n",
       "    }\n",
       "</style>\n",
       "<table border=\"1\" class=\"dataframe\">\n",
       "  <thead>\n",
       "    <tr style=\"text-align: right;\">\n",
       "      <th></th>\n",
       "      <th>Orthlog_Genes</th>\n",
       "      <th>Human_Gene</th>\n",
       "      <th>Organism</th>\n",
       "      <th>Enriched_Phenotypes</th>\n",
       "    </tr>\n",
       "  </thead>\n",
       "  <tbody>\n",
       "    <tr>\n",
       "      <th>1</th>\n",
       "      <td>arnt2</td>\n",
       "      <td>ENSG00000172379</td>\n",
       "      <td>zebrafish</td>\n",
       "      <td>None</td>\n",
       "    </tr>\n",
       "    <tr>\n",
       "      <th>2</th>\n",
       "      <td>NaN</td>\n",
       "      <td>ENSG00000288622</td>\n",
       "      <td>zebrafish</td>\n",
       "      <td>None</td>\n",
       "    </tr>\n",
       "    <tr>\n",
       "      <th>3</th>\n",
       "      <td>FBgn0003513</td>\n",
       "      <td>ENSG00000063438</td>\n",
       "      <td>dmelanogaster</td>\n",
       "      <td>abnormal neuroanatomy</td>\n",
       "    </tr>\n",
       "    <tr>\n",
       "      <th>3</th>\n",
       "      <td>FBgn0003513</td>\n",
       "      <td>ENSG00000063438</td>\n",
       "      <td>dmelanogaster</td>\n",
       "      <td>abnormal neuroanatomy (with ss[D115.7])</td>\n",
       "    </tr>\n",
       "    <tr>\n",
       "      <th>3</th>\n",
       "      <td>FBgn0003513</td>\n",
       "      <td>ENSG00000063438</td>\n",
       "      <td>dmelanogaster</td>\n",
       "      <td>abnormal neuroanatomy | somatic clone</td>\n",
       "    </tr>\n",
       "    <tr>\n",
       "      <th>3</th>\n",
       "      <td>FBgn0003513</td>\n",
       "      <td>ENSG00000063438</td>\n",
       "      <td>dmelanogaster</td>\n",
       "      <td>antenna (with ss[aBR30-71])</td>\n",
       "    </tr>\n",
       "    <tr>\n",
       "      <th>3</th>\n",
       "      <td>FBgn0003513</td>\n",
       "      <td>ENSG00000063438</td>\n",
       "      <td>dmelanogaster</td>\n",
       "      <td>chaeta (with ss[aBR30-71])</td>\n",
       "    </tr>\n",
       "    <tr>\n",
       "      <th>3</th>\n",
       "      <td>FBgn0003513</td>\n",
       "      <td>ENSG00000063438</td>\n",
       "      <td>dmelanogaster</td>\n",
       "      <td>dendrite &amp; dorsal multidendritic neuron ddaB |...</td>\n",
       "    </tr>\n",
       "    <tr>\n",
       "      <th>3</th>\n",
       "      <td>FBgn0003513</td>\n",
       "      <td>ENSG00000063438</td>\n",
       "      <td>dmelanogaster</td>\n",
       "      <td>dendrite &amp; dorsal multidendritic neuron ddaD |...</td>\n",
       "    </tr>\n",
       "  </tbody>\n",
       "</table>\n",
       "</div>"
      ],
      "text/plain": [
       "  Orthlog_Genes       Human_Gene       Organism  \\\n",
       "1         arnt2  ENSG00000172379      zebrafish   \n",
       "2           NaN  ENSG00000288622      zebrafish   \n",
       "3   FBgn0003513  ENSG00000063438  dmelanogaster   \n",
       "3   FBgn0003513  ENSG00000063438  dmelanogaster   \n",
       "3   FBgn0003513  ENSG00000063438  dmelanogaster   \n",
       "3   FBgn0003513  ENSG00000063438  dmelanogaster   \n",
       "3   FBgn0003513  ENSG00000063438  dmelanogaster   \n",
       "3   FBgn0003513  ENSG00000063438  dmelanogaster   \n",
       "3   FBgn0003513  ENSG00000063438  dmelanogaster   \n",
       "\n",
       "                                 Enriched_Phenotypes  \n",
       "1                                               None  \n",
       "2                                               None  \n",
       "3                              abnormal neuroanatomy  \n",
       "3            abnormal neuroanatomy (with ss[D115.7])  \n",
       "3              abnormal neuroanatomy | somatic clone  \n",
       "3                        antenna (with ss[aBR30-71])  \n",
       "3                         chaeta (with ss[aBR30-71])  \n",
       "3  dendrite & dorsal multidendritic neuron ddaB |...  \n",
       "3  dendrite & dorsal multidendritic neuron ddaD |...  "
      ]
     },
     "execution_count": 6,
     "metadata": {},
     "output_type": "execute_result"
    }
   ],
   "source": [
    "# example of dataframe\n",
    "gene_df_1[1:10]"
   ]
  },
  {
   "cell_type": "code",
   "execution_count": 7,
   "id": "a24441eb",
   "metadata": {},
   "outputs": [
    {
     "name": "stdout",
     "output_type": "stream",
     "text": [
      "Print each row and it's columns values\n",
      "PostgreSQL connection is closed\n",
      "PostgreSQL connection is closed\n"
     ]
    }
   ],
   "source": [
    "#AmineOxidase\n",
    "gene_df2 = db_retrieve.select_from_enrichment_results(\"AmineOxidase\")     #gene_df2\n",
    "gene_df_2, N_genes_2 = expand_dataframe(gene_df2) \n",
    "metadata2 = db_retrieve.select_from_metadata(\"AmineOxidase\")              #metadata2\n"
   ]
  },
  {
   "cell_type": "code",
   "execution_count": 8,
   "id": "d2b382c1",
   "metadata": {},
   "outputs": [
    {
     "name": "stdout",
     "output_type": "stream",
     "text": [
      "Print each row and it's columns values\n",
      "PostgreSQL connection is closed\n",
      "PostgreSQL connection is closed\n"
     ]
    }
   ],
   "source": [
    "#AminoAcidConjugation\n",
    "gene_df3 = db_retrieve.select_from_enrichment_results(\"AminoAcidConjugation\")     #gene_df3\n",
    "gene_df_3, N_genes_3 = expand_dataframe(gene_df3) \n",
    "metadata3 = db_retrieve.select_from_metadata(\"AminoAcidConjugation\")              #metadata3"
   ]
  },
  {
   "cell_type": "code",
   "execution_count": 9,
   "id": "72490ca4",
   "metadata": {},
   "outputs": [
    {
     "name": "stdout",
     "output_type": "stream",
     "text": [
      "Print each row and it's columns values\n",
      "PostgreSQL connection is closed\n",
      "PostgreSQL connection is closed\n"
     ]
    }
   ],
   "source": [
    "#EthanolOxidation\n",
    "gene_df4 = db_retrieve.select_from_enrichment_results(\"EthanolOxidation\")     #gene_df4\n",
    "gene_df_4, N_genes_4 = expand_dataframe(gene_df4) \n",
    "metadata4 = db_retrieve.select_from_metadata(\"EthanolOxidation\")              #metadata4"
   ]
  },
  {
   "cell_type": "code",
   "execution_count": 10,
   "id": "1feea068",
   "metadata": {},
   "outputs": [],
   "source": [
    "path_list = ['AHR', 'Amino Oxidase', 'Ethanol Oxidation', 'AminoAcid Conjugation']  #add"
   ]
  },
  {
   "cell_type": "code",
   "execution_count": 11,
   "id": "a5b913fc",
   "metadata": {},
   "outputs": [],
   "source": [
    "#nodes & edges\n",
    "nodes, edges = load_info_to_graph(upper_df_1, metadata, upper_N_genes_1)\n",
    "nodes1, edges1 = load_info_to_graph(gene_df_1, metadata1, N_genes_1)\n",
    "nodes2, edges2 = load_info_to_graph(gene_df_2, metadata2, N_genes_2)\n",
    "nodes3, edges3 = load_info_to_graph(gene_df_3, metadata3, N_genes_3)\n",
    "nodes4, edges4 = load_info_to_graph(gene_df_4, metadata4, N_genes_4)"
   ]
  },
  {
   "cell_type": "code",
   "execution_count": 12,
   "id": "0864f15e",
   "metadata": {},
   "outputs": [],
   "source": [
    "element = edges + nodes\n",
    "new_element1 = edges1 + nodes1\n",
    "new_element2 = edges2 + nodes2\n",
    "new_element3 = edges3 + nodes3\n",
    "new_element4 = edges4 + nodes4"
   ]
  },
  {
   "cell_type": "code",
   "execution_count": 13,
   "id": "943e3dc4",
   "metadata": {},
   "outputs": [],
   "source": [
    "new_elements = [element, new_element1, new_element2, new_element3, new_element4]"
   ]
  },
  {
   "cell_type": "markdown",
   "id": "4965f0c8",
   "metadata": {},
   "source": [
    "## Define organism and colors"
   ]
  },
  {
   "cell_type": "code",
   "execution_count": 14,
   "id": "1a173c6e",
   "metadata": {},
   "outputs": [],
   "source": [
    "#organisms list:\n",
    "organism = ['dmelanogaster','mouse','celegans','zebrafish']\n",
    "# https://plotly.com/python/discrete-color/\n",
    "col_swatch = [px.colors.qualitative.Safe[8], px.colors.qualitative.Set1[2],\n",
    "              px.colors.qualitative.Set1[7],px.colors.qualitative.Set1[4]]"
   ]
  },
  {
   "cell_type": "markdown",
   "id": "3c10fed1",
   "metadata": {},
   "source": [
    "## Function to caluculate the number of phenotypes"
   ]
  },
  {
   "cell_type": "code",
   "execution_count": 15,
   "id": "efd8b052",
   "metadata": {},
   "outputs": [],
   "source": [
    "# calculate the right phenotype number\n",
    "def calculate_no_phenotypes (df):\n",
    "    no_celegans = (df.groupby(['Organism']).count())['Enriched_Phenotypes'][0]\n",
    "    no_dmelanogaster = (df.groupby(['Organism']).count())['Enriched_Phenotypes'][1]\n",
    "    no_mouse = (df.groupby(['Organism']).count())['Enriched_Phenotypes'][2]\n",
    "    no_zebrafish = (df.groupby(['Organism']).count())['Enriched_Phenotypes'][3]\n",
    "    totalPhenotype = [no_celegans,no_dmelanogaster,no_mouse,no_zebrafish]\n",
    "    org_totalPhenotype = dict(zip(organism,totalPhenotype))\n",
    "    return org_totalPhenotype"
   ]
  },
  {
   "cell_type": "code",
   "execution_count": 16,
   "id": "1b4451e0",
   "metadata": {},
   "outputs": [
    {
     "data": {
      "text/plain": [
       "{'dmelanogaster': 217, 'mouse': 350, 'celegans': 57, 'zebrafish': 0}"
      ]
     },
     "execution_count": 16,
     "metadata": {},
     "output_type": "execute_result"
    }
   ],
   "source": [
    "org_totalPhenotype = calculate_no_phenotypes(upper_df1)\n",
    "org_totalPhenotype"
   ]
  },
  {
   "cell_type": "code",
   "execution_count": 17,
   "id": "eeb1640d",
   "metadata": {},
   "outputs": [
    {
     "data": {
      "text/plain": [
       "{'dmelanogaster': 330, 'mouse': 8634, 'celegans': 48, 'zebrafish': 9}"
      ]
     },
     "execution_count": 17,
     "metadata": {},
     "output_type": "execute_result"
    }
   ],
   "source": [
    "org_totalPhenotype_1 = calculate_no_phenotypes(gene_df_1)\n",
    "org_totalPhenotype_1"
   ]
  },
  {
   "cell_type": "code",
   "execution_count": 18,
   "id": "39755145",
   "metadata": {},
   "outputs": [
    {
     "data": {
      "text/plain": [
       "{'dmelanogaster': 865, 'mouse': 13523, 'celegans': 0, 'zebrafish': 0}"
      ]
     },
     "execution_count": 18,
     "metadata": {},
     "output_type": "execute_result"
    }
   ],
   "source": [
    "org_totalPhenotype_2 = calculate_no_phenotypes(gene_df_2)\n",
    "org_totalPhenotype_2"
   ]
  },
  {
   "cell_type": "code",
   "execution_count": 19,
   "id": "9aa800cc",
   "metadata": {},
   "outputs": [
    {
     "data": {
      "text/plain": [
       "{'dmelanogaster': 5136, 'mouse': 57023, 'celegans': 2, 'zebrafish': 0}"
      ]
     },
     "execution_count": 19,
     "metadata": {},
     "output_type": "execute_result"
    }
   ],
   "source": [
    "org_totalPhenotype_3 = calculate_no_phenotypes(gene_df_3)\n",
    "org_totalPhenotype_3"
   ]
  },
  {
   "cell_type": "code",
   "execution_count": 20,
   "id": "7f7120ff",
   "metadata": {},
   "outputs": [
    {
     "data": {
      "text/plain": [
       "{'dmelanogaster': 865, 'mouse': 13523, 'celegans': 0, 'zebrafish': 0}"
      ]
     },
     "execution_count": 20,
     "metadata": {},
     "output_type": "execute_result"
    }
   ],
   "source": [
    "org_totalPhenotype_4 = calculate_no_phenotypes(gene_df_4)\n",
    "org_totalPhenotype_4"
   ]
  },
  {
   "cell_type": "code",
   "execution_count": 21,
   "id": "bdeb2dc3",
   "metadata": {},
   "outputs": [],
   "source": [
    "totalPhenotypes = [org_totalPhenotype_1, org_totalPhenotype_2, org_totalPhenotype_3, org_totalPhenotype_4]"
   ]
  },
  {
   "cell_type": "markdown",
   "id": "06a080cf",
   "metadata": {},
   "source": [
    "## Define app:"
   ]
  },
  {
   "cell_type": "code",
   "execution_count": 22,
   "id": "074e5baf",
   "metadata": {},
   "outputs": [],
   "source": [
    "graph_stylesheet = [\n",
    "    # {\n",
    "    #     'selector': organism[i],       # colours based on organism\n",
    "    #     'style': {\"background-color\": col_swatch[i],\n",
    "    #               \"line-color\": col_swatch[i]\n",
    "    #               },\n",
    "    # }\n",
    "    # for i in range(len(organism))\n",
    "\n",
    "# colours based on organism\n",
    "    {\n",
    "        'selector': '[organism *= \"dmelanogaster\"]',\n",
    "        'style': {\n",
    "            'background-color': col_swatch[0],\n",
    "            'line-colour': col_swatch[0],\n",
    "        }\n",
    "    },\n",
    "    {\n",
    "        'selector': '[organism *= \"mouse\"]',\n",
    "        'style': {\n",
    "            'background-color': col_swatch[1],\n",
    "            'line-colour': col_swatch[1],\n",
    "        }\n",
    "    },\n",
    "    {\n",
    "        'selector': '[organism *= \"celegans\"]',\n",
    "        'style': {\n",
    "            'background-color': col_swatch[2],\n",
    "            'line-colour': col_swatch[2],\n",
    "        }\n",
    "    },\n",
    "    {\n",
    "        'selector': '[organism *= \"zebrafish\"]',\n",
    "        'style': {\n",
    "            'background-color': col_swatch[3],\n",
    "            'line-colour': col_swatch[3],\n",
    "        }\n",
    "    }\n",
    "]\n",
    "\n",
    "graph_stylesheet += [\n",
    "    {\n",
    "        'selector': 'nodes',\n",
    "        'style': {\n",
    "            'content': 'data(label)',\n",
    "            'width': 'data(size)',\n",
    "            'height': 'data(size)',\n",
    "            \"curve-style\": \"bezier\",\n",
    "            'font-size': 'data(fontsize)',\n",
    "        }\n",
    "    },\n",
    "    {\n",
    "        'selector': 'edges',\n",
    "        'style': {\n",
    "            'width': 'data(width)',\n",
    "            'line-color': 'data(color)',\n",
    "        }\n",
    "    },\n",
    "    {\n",
    "        'selector': '.purple',\n",
    "        'style': {\n",
    "            'background-color': '#C918F3',\n",
    "            'line-color': '#C918F3'\n",
    "        }\n",
    "    },\n",
    "\n",
    "    {\n",
    "        'selector': '.blue',\n",
    "        'style': {'background-color': '#18B6F3',\n",
    "                  'line-color': '#18B6F3'\n",
    "                  }\n",
    "    }\n",
    "\n",
    "]"
   ]
  },
  {
   "cell_type": "code",
   "execution_count": 23,
   "id": "308b10c1",
   "metadata": {},
   "outputs": [],
   "source": [
    "# Define app\n",
    "app = dash.Dash(__name__, external_stylesheets=[dbc.themes.BOOTSTRAP])\n",
    "# server = app.server"
   ]
  },
  {
   "cell_type": "code",
   "execution_count": 24,
   "id": "9da88d9a",
   "metadata": {},
   "outputs": [],
   "source": [
    "navbar = dbc.NavbarSimple(\n",
    "    children=[\n",
    "        dbc.NavItem(\n",
    "            dbc.NavLink(\n",
    "                \"Article\",\n",
    "                href=\"https://www.ncbi.nlm.nih.gov/pmc/articles/PMC5829367/\",\n",
    "            )\n",
    "        ),\n",
    "        dbc.NavItem(\n",
    "            dbc.NavLink(\n",
    "                \"Source Code\",\n",
    "                href=\"https://github.com/ivanajanickova/DARTpaths-vis\",\n",
    "            )\n",
    "        ),\n",
    "    ],\n",
    "    brand=\"Dart - Translation of Genotype to Phenotype by a Hierarchy of Model Organism - simple demo\", #title\n",
    "    brand_href=\"#\",\n",
    "    color=\"dark\",\n",
    "    dark=True,\n",
    ")"
   ]
  },
  {
   "cell_type": "code",
   "execution_count": 25,
   "id": "69db4a25",
   "metadata": {},
   "outputs": [],
   "source": [
    "topics_html = list()\n",
    "for topic_html in [\n",
    "    html.Span([str(i+1) + \": \" + organism[i]], style={\"color\": col_swatch[i]})\n",
    "    for i in range(len(organism))\n",
    "]:\n",
    "    topics_html.append(topic_html)\n",
    "    topics_html.append(html.Br())"
   ]
  },
  {
   "cell_type": "markdown",
   "id": "f19e1465",
   "metadata": {},
   "source": [
    "## Body layout"
   ]
  },
  {
   "cell_type": "code",
   "execution_count": 26,
   "id": "9031f644",
   "metadata": {},
   "outputs": [],
   "source": [
    "body_layout = dbc.Container(\n",
    "    [\n",
    "        dbc.Row(\n",
    "            [\n",
    "                dbc.Col(\n",
    "                    [\n",
    "                        dcc.Markdown(\n",
    "                            f\"\"\"\n",
    "                -----\n",
    "                ##### Description:\n",
    "                -----\n",
    "                For this demonstration, phenotypes from 4 model organism were used to visualize\n",
    "                the relationship between phenotypes from different organism related to a particular human\n",
    "                pathway. The pathways are preference from [REACTOME](https://reactome.org/PathwayBrowser/)\n",
    "                Phenotype from each organism is shown in different color on the map, as shown on the right.\n",
    "                \"\"\"\n",
    "                        )\n",
    "                    ],\n",
    "                    sm=12,\n",
    "                    md=8,\n",
    "                ),\n",
    "                dbc.Col(\n",
    "                    [\n",
    "                        dcc.Markdown(\n",
    "                            \"\"\"\n",
    "                -----\n",
    "                ##### Model oganisms:\n",
    "                -----\n",
    "                \"\"\"\n",
    "                        ),\n",
    "                        html.Div(\n",
    "                            topics_html,\n",
    "                            style={\n",
    "                                \"fontSize\": 11,\n",
    "                                \"height\": \"100px\",\n",
    "                                \"overflow\": \"auto\",\n",
    "                            },\n",
    "                        ),\n",
    "                    ],\n",
    "                    sm=12,\n",
    "                    md=4,\n",
    "                )\n",
    "            ]\n",
    "        ),\n",
    "        dbc.Row(\n",
    "            [\n",
    "                dcc.Markdown(\n",
    "                    \"\"\"\n",
    "            -----\n",
    "            ##### Node representation\n",
    "            There are three kinds of node in the graph. The biggest nodes in the center indicate human genes in a chosen \n",
    "            pathway. These nodes are linked directly with the second type of node which indicate orthologs from a model \n",
    "            organism. Node color indicates which organism the orthologs belong to. \n",
    "            \n",
    "            The third type of node in two sides is the phenotype enrichment of organism model\n",
    "            \n",
    "            The edges show the relationship of 1. phenotypes and its related ortholog gene in organism 2. ortholog genes in \n",
    "            organism and its human gene in the same molecular pathway in Reactome.\n",
    "\n",
    "            Use the filters to choose the phenotype with:\n",
    "            * certain numbers of pathway/ pathway level \n",
    "            * certain numbers of model organism you want to investigate\n",
    "            \n",
    "            The slider is used to explore 3 level of visualisation: human gene only, human gene and orthologs or the whole graph. Toggle to explore different visualisation options.\n",
    "            \n",
    "            -----\n",
    "            \"\"\"\n",
    "                )\n",
    "            ]\n",
    "        ),\n",
    "        dbc.Row(\n",
    "            [\n",
    "                dbc.Col(\n",
    "                    [\n",
    "                        dbc.Row(\n",
    "                            [\n",
    "                                cyto.Cytoscape(\n",
    "                                    id='cytoscape-phenotype',\n",
    "                                    layout={\"name\": \"preset\"},\n",
    "                                    style={\"width\": \"100%\", \"height\": \"800px\"},\n",
    "                                    elements= element,   #change\n",
    "                                    stylesheet=graph_stylesheet,\n",
    "                                    #style={'width': '100%', 'height': '95vh'}\n",
    "                                    minZoom = 0.6\n",
    "                                )\n",
    "                            ]\n",
    "                        ),\n",
    "                        dbc.Row(\n",
    "                            [\n",
    "                                dbc.Alert(\n",
    "                                    id='phenotype-data',\n",
    "                                    children='Click on a node to see its details here',\n",
    "                                    color='secondary'\n",
    "                                )\n",
    "                            ]\n",
    "                        )\n",
    "                    ],\n",
    "                    sm=12,\n",
    "                    md=8\n",
    "                ),\n",
    "                dbc.Col(\n",
    "                    [\n",
    "                        dbc.Label('Search phenotype for a gene: ', html_for='gene_search'),\n",
    "                        dbc.Input(type='search', id='gene_search', placeholder=\"Enter a gene ID here\"),\n",
    "                        dbc.FormText('The gene is not available in the pathway', color='secondary'),\n",
    "                        html.Div(style={'padding': 20}), #Space\n",
    "\n",
    "                        dbc.Row(\n",
    "                            [\n",
    "                                dbc.Col(\n",
    "                                    [\n",
    "                                        html.H4(dbc.Badge(\n",
    "                                            \"Level of pathway(s):\",\n",
    "                                            color=\"success\",\n",
    "                                            className=\"ms-1\",\n",
    "\n",
    "                                        )),\n",
    "\n",
    "                                        dcc.Dropdown(\n",
    "                                            id=\"pathway_level\",\n",
    "                                            #options=[{\"label\": k, \"value\": k} for k in range(1,3)],\n",
    "                                            options=[{\"label\": 'lower level', \"value\": 1},{\"label\": 'upper level', \"value\": 2}],\n",
    "                                            clearable=False,\n",
    "                                            value= 2,\n",
    "                                            style={\"width\": \"150px\"},\n",
    "                                    )\n",
    "                                    ]),\n",
    "                                dbc.Col(\n",
    "                                    [\n",
    "                                        #Irene\n",
    "                                        dbc.Badge(           # dropdown to choose pathway of lowest level\n",
    "                                            \"Available sub-pathway:    \",\n",
    "                                            color=\"white\",\n",
    "                                            text_color=\"muted\",\n",
    "                                            class_name=\"border me-1\",\n",
    "                                        ),\n",
    "                                        html.Div(style={'padding': 7}), #Space\n",
    "                                        dcc.Dropdown(\n",
    "                                            id=\"Lowest_Level\",\n",
    "                                            options=[{\"label\": name , \"value\": name }\n",
    "                                                     for name in path_list   #change\n",
    "                                                    ],\n",
    "                                            clearable=False,\n",
    "                                            value = path_list[0],             # 'AHR'\n",
    "                                            style={\"width\": \"187px\"},\n",
    "                                        )])]),\n",
    "\n",
    "                        html.H4(dbc.Badge(\n",
    "                            \"Model organism(s):\", color=\"success\", className=\"mr-1\"\n",
    "                        )),\n",
    "                        dcc.Dropdown(\n",
    "                            id=\"organism_dropdown\",\n",
    "                            options=[{\"label\": i + \" (\" + str(v)+ \" phenotype(s))\", \"value\": i} for i, v in org_totalPhenotype.items()],\n",
    "                            value= [{\"label\": i + \" (\" + str(v)+ \" phenotype(s))\", \"value\": i} for i, v in org_totalPhenotype.items()] ,    #check??\n",
    "                            #value= org_totalPhenotype.keys(),   #if change will cause layout error\n",
    "                            multi=True,\n",
    "                            style={\"width\": \"100%\"},\n",
    "                        ),\n",
    "                        html.Div(style={'padding': 7}),\n",
    "                        dbc.Button(\"Search\", id=\"search-button\", className=\"me-2\", n_clicks=0, size=\"sm\",color=\"secondary\"),\n",
    "                        html.Span(id=\"search-status\", style={\"verticalAlign\": \"middle\"}),\n",
    "                        html.Div(style={'padding': 20}),  #Space\n",
    "\n",
    "                        html.H4(dbc.Badge(\n",
    "                            \"Choose level of visualisation:\", color=\"success\", className=\"mr-1\"\n",
    "                        )),\n",
    "                        html.Div(style={'padding': 10}), #Space\n",
    "                        dcc.Slider(\n",
    "                            id='detail_slider',\n",
    "                            min=1,\n",
    "                            max=3,\n",
    "                            value=3,\n",
    "                            marks={1: \"human_gene\",2:\"organism_ortholog\", 3:\"organism_phenotype\"},\n",
    "                            step=1\n",
    "                        )\n",
    "                    ]\n",
    "                )\n",
    "                ]\n",
    "        )\n",
    "\n",
    "    ]\n",
    ")"
   ]
  },
  {
   "cell_type": "code",
   "execution_count": 27,
   "id": "f98d2073",
   "metadata": {},
   "outputs": [],
   "source": [
    "app.layout = html.Div([navbar, body_layout])"
   ]
  },
  {
   "cell_type": "markdown",
   "id": "ecec7ec1",
   "metadata": {},
   "source": [
    "## Dash Callbacks"
   ]
  },
  {
   "cell_type": "markdown",
   "id": "c19917ae",
   "metadata": {},
   "source": [
    "### Click on a node to see its details here"
   ]
  },
  {
   "cell_type": "code",
   "execution_count": 28,
   "id": "672dcd8a",
   "metadata": {},
   "outputs": [],
   "source": [
    "# call back Node information -----------------\n",
    "@app.callback(\n",
    "    Output('phenotype-data', 'children'),\n",
    "    [Input('cytoscape-phenotype', 'tapNodeData')]\n",
    ")\n",
    "def display_nodeData(data):\n",
    "    contents = 'Click on a node to see its details here'\n",
    "    if data:\n",
    "        contents = []\n",
    "        if data.get('indent') == 'phenotype':\n",
    "            contents.append(html.H5('Phenotype: ' + data.get('label')))\n",
    "            contents.append(html.P('Hierchically related phenotype(s): ' + str(data.get('metadata')[1])))\n",
    "            contents.append(html.P('Phenotype enrichment Q-value: ' + str(data.get('metadata')[2])))\n",
    "            contents.append(html.P('Phenotype enrichment P-value: ' + str(data.get('metadata')[4])))\n",
    "            return contents\n",
    "        elif data.get('indent') == 'gene':\n",
    "            contents.append(html.H5('Gene ID: ' + data.get('label')))\n",
    "            return contents\n",
    "        elif data.get('indent') == 'ortholog':\n",
    "            contents.append(html.H5('Ortholog ID: ' + data.get('label')))\n",
    "            contents.append(html.P('Organism: ' + data.get('organism')))\n",
    "            return contents\n",
    "    else:\n",
    "        return contents"
   ]
  },
  {
   "cell_type": "markdown",
   "id": "8e799148",
   "metadata": {},
   "source": [
    "### Search phenotype for a gene:"
   ]
  },
  {
   "cell_type": "code",
   "execution_count": 29,
   "id": "a6aa3249",
   "metadata": {},
   "outputs": [],
   "source": [
    "#@app.callback(\n",
    "#     Output('phenotype-data', 'children'),\n",
    "#     [Input('cytoscape-phenotype', 'tapNodeData')]\n",
    "# )\n",
    "# def display_phenotype(data):\n",
    "#     contents = 'Click on a node to see its details here'\n",
    "#     if data:\n",
    "#         contents = []\n",
    "#         #contents.append(html.H5('Phenotype: ' + str(data.get('metadata')[0])))\n",
    "#         contents.append(html.H5('Phenotype: ' + data.get('id')))\n",
    "#         contents.append(html.P('Hierchically related phenotype(s): ' + str(data.get('metadata')[1])))\n",
    "#         contents.append(html.P('Phenotype enrichment Q-value: ' + str(data.get('metadata')[3])))\n",
    "#         contents.append(html.P('Phenotype enrichment P-value: ' + str(data.get('metadata')[4])))\n",
    "#         return contents\n",
    "#     else:\n",
    "#         return contents"
   ]
  },
  {
   "cell_type": "markdown",
   "id": "32945720",
   "metadata": {},
   "source": [
    "### Level of pathway: Upper and Lower"
   ]
  },
  {
   "cell_type": "code",
   "execution_count": 30,
   "id": "b191ba08",
   "metadata": {},
   "outputs": [],
   "source": [
    "@app.callback(\n",
    "    [Output('cytoscape-phenotype', \"elements\"),\n",
    "     Output('organism_dropdown', 'value'),\n",
    "     ],\n",
    "    [Input('pathway_level', 'value'), \n",
    "     Input('Lowest_Level', 'value')]\n",
    ")\n",
    "def filter_nodes_1(UpLow, LowLevel):\n",
    "    new_element = new_elements[0]\n",
    "    if UpLow == 1:\n",
    "        new_element = new_elements[1]\n",
    "        if LowLevel == path_list[0]:\n",
    "            new_element = new_elements[1]\n",
    "            org_totalPhenotypeLOW = totalPhenotypes[0]\n",
    "            value = [{\"label\": i + \" (\" + str(v) + \" phenotype(s))\", \"value\": i} for i, v in org_totalPhenotypeLOW.items()]\n",
    "            return new_element, value\n",
    "        elif LowLevel == path_list[1]:\n",
    "            new_element = new_elements[2]\n",
    "            org_totalPhenotypeLOW = totalPhenotypes[1]\n",
    "            value = [{\"label\": i + \" (\" + str(v) + \" phenotype(s))\", \"value\": i} for i, v in org_totalPhenotypeLOW.items()]\n",
    "            return new_element, value\n",
    "        elif LowLevel == path_list[2]:\n",
    "            new_element = new_elements[3]\n",
    "            org_totalPhenotypeLOW = totalPhenotypes[2]\n",
    "            value = [{\"label\": i + \" (\" + str(v) + \" phenotype(s))\", \"value\": i} for i, v in org_totalPhenotypeLOW.items()]\n",
    "            return new_element, value\n",
    "        elif LowLevel == path_list[3]:\n",
    "            new_element = new_elements[4]\n",
    "            org_totalPhenotypeLOW = totalPhenotypes[3]\n",
    "            value = [{\"label\": i + \" (\" + str(v) + \" phenotype(s))\", \"value\": i} for i, v in org_totalPhenotypeLOW.items()]\n",
    "            return new_element, value\n",
    "        return new_element\n",
    "    elif UpLow == 2:\n",
    "        new_element = new_elements[0]\n",
    "        value = [{\"label\": i + \" (\" + str(v) + \" phenotype(s))\", \"value\": i} for i, v in org_totalPhenotype.items()]\n",
    "        return new_element, value\n"
   ]
  },
  {
   "cell_type": "markdown",
   "id": "2bee8db8",
   "metadata": {},
   "source": [
    "### Model organism(s):"
   ]
  },
  {
   "cell_type": "code",
   "execution_count": 32,
   "id": "cf356169",
   "metadata": {},
   "outputs": [],
   "source": [
    "# @app.callback (\n",
    "#     Output('cytoscape-phenotype', \"elements\"),\n",
    "#     [Input('organism_dropdown', 'value')]\n",
    "# )\n",
    "\n",
    "# def select_organism(value):\n",
    "    \n",
    "    \n",
    "#-----------------------------------------------\n",
    "\n",
    "# call back Slider + Dropdown -----------------\n",
    "# @app.callback(\n",
    "#     Output('cytoscape-phenotype', \"elements\"),\n",
    "#     [\n",
    "#         Input('pathway_level', 'value'),\n",
    "#         Input('organism_dropdown', 'value'),\n",
    "#         Input('detail_slider', 'value'),\n",
    "#     ]\n",
    "# )\n",
    "# def filter_nodes(pathway_level, organism_list, detail_slider):\n",
    "#     ctx = dash.callback_context\n",
    "#     if not ctx.triggered:\n",
    "#         return element\n",
    "#\n",
    "#     else:\n",
    "#         trigger_id = ctx.triggered[0]['prop_id'].split(\".\")[0]\n",
    "#         val = ctx.triggered[0]['value'].split(\".\")[0]\n",
    "#\n",
    "#         if trigger_id == 'pathway_level':\n",
    "#             pathway = val\n",
    "#             df = gene_df1 if val == 1 else gene_df2\n",
    "#         elif trigger_id == 'organism_dropdown':\n",
    "\n",
    "\n",
    "#----------------------------------------------\n",
    "# @app.callback(\n",
    "#     Output('cytoscape-phenotype', 'elements'),\n",
    "#     [Input('pathway_level', 'value'),\n",
    "#      Input('organism_dropdown', 'value')]\n",
    "# )\n",
    "# def filter_nodes(pathway_level):\n",
    "#     if pathway_level == 1:\n",
    "#         metadata1 = db_retrieve.select_from_metadata(\"AHR\")\n",
    "#         new_nodes, new_edges = load_info_to_graph(gene_df_1, metadata1, N_genes_1)\n",
    "#         new_element = new_edges + new_nodes\n",
    "#         return new_element\n",
    "#\n",
    "#     return element\n",
    "#---------------------------------------------\n",
    "\n"
   ]
  },
  {
   "cell_type": "markdown",
   "id": "00dc9f04",
   "metadata": {},
   "source": [
    "### Running the app:"
   ]
  },
  {
   "cell_type": "code",
   "execution_count": null,
   "id": "91c51713",
   "metadata": {},
   "outputs": [
    {
     "name": "stdout",
     "output_type": "stream",
     "text": [
      "Dash is running on http://127.0.0.1:8050/\n",
      "\n",
      " * Serving Flask app '__main__' (lazy loading)\n",
      " * Environment: production\n",
      "\u001b[31m   WARNING: This is a development server. Do not use it in a production deployment.\u001b[0m\n",
      "\u001b[2m   Use a production WSGI server instead.\u001b[0m\n",
      " * Debug mode: off\n"
     ]
    },
    {
     "name": "stderr",
     "output_type": "stream",
     "text": [
      " * Running on http://127.0.0.1:8050/ (Press CTRL+C to quit)\n",
      "127.0.0.1 - - [29/Nov/2021 13:07:09] \"GET / HTTP/1.1\" 200 -\n",
      "127.0.0.1 - - [29/Nov/2021 13:07:10] \"GET /_dash-layout HTTP/1.1\" 200 -\n",
      "127.0.0.1 - - [29/Nov/2021 13:07:10] \"GET /_dash-dependencies HTTP/1.1\" 200 -\n",
      "127.0.0.1 - - [29/Nov/2021 13:07:10] \"GET /_dash-component-suites/dash/dcc/async-markdown.js HTTP/1.1\" 200 -\n",
      "127.0.0.1 - - [29/Nov/2021 13:07:10] \"GET /_dash-component-suites/dash/dcc/async-dropdown.js HTTP/1.1\" 200 -\n",
      "127.0.0.1 - - [29/Nov/2021 13:07:10] \"GET /_dash-component-suites/dash/dcc/async-slider.js HTTP/1.1\" 200 -\n",
      "127.0.0.1 - - [29/Nov/2021 13:07:11] \"POST /_dash-update-component HTTP/1.1\" 200 -\n",
      "127.0.0.1 - - [29/Nov/2021 13:07:11] \"POST /_dash-update-component HTTP/1.1\" 200 -\n",
      "127.0.0.1 - - [29/Nov/2021 13:07:11] \"GET /_dash-component-suites/dash/dcc/async-highlight.js HTTP/1.1\" 200 -\n",
      "127.0.0.1 - - [29/Nov/2021 13:07:13] \"POST /_dash-update-component HTTP/1.1\" 200 -\n",
      "127.0.0.1 - - [29/Nov/2021 13:07:15] \"POST /_dash-update-component HTTP/1.1\" 200 -\n",
      "127.0.0.1 - - [29/Nov/2021 13:07:18] \"POST /_dash-update-component HTTP/1.1\" 200 -\n",
      "127.0.0.1 - - [29/Nov/2021 13:07:20] \"POST /_dash-update-component HTTP/1.1\" 200 -\n",
      "127.0.0.1 - - [29/Nov/2021 13:07:43] \"POST /_dash-update-component HTTP/1.1\" 200 -\n",
      "127.0.0.1 - - [29/Nov/2021 13:07:46] \"POST /_dash-update-component HTTP/1.1\" 200 -\n",
      "127.0.0.1 - - [29/Nov/2021 13:07:48] \"POST /_dash-update-component HTTP/1.1\" 200 -\n",
      "127.0.0.1 - - [29/Nov/2021 13:07:51] \"POST /_dash-update-component HTTP/1.1\" 200 -\n",
      "127.0.0.1 - - [29/Nov/2021 13:07:55] \"POST /_dash-update-component HTTP/1.1\" 200 -\n",
      "127.0.0.1 - - [29/Nov/2021 13:07:58] \"POST /_dash-update-component HTTP/1.1\" 200 -\n",
      "127.0.0.1 - - [29/Nov/2021 13:08:29] \"POST /_dash-update-component HTTP/1.1\" 200 -\n",
      "127.0.0.1 - - [29/Nov/2021 13:08:31] \"POST /_dash-update-component HTTP/1.1\" 200 -\n",
      "127.0.0.1 - - [29/Nov/2021 13:08:32] \"POST /_dash-update-component HTTP/1.1\" 200 -\n",
      "127.0.0.1 - - [29/Nov/2021 13:08:34] \"POST /_dash-update-component HTTP/1.1\" 200 -\n",
      "127.0.0.1 - - [29/Nov/2021 13:08:37] \"POST /_dash-update-component HTTP/1.1\" 200 -\n",
      "127.0.0.1 - - [29/Nov/2021 13:08:39] \"POST /_dash-update-component HTTP/1.1\" 200 -\n",
      "127.0.0.1 - - [29/Nov/2021 13:08:41] \"POST /_dash-update-component HTTP/1.1\" 200 -\n",
      "127.0.0.1 - - [29/Nov/2021 13:08:44] \"POST /_dash-update-component HTTP/1.1\" 200 -\n",
      "127.0.0.1 - - [29/Nov/2021 13:08:46] \"POST /_dash-update-component HTTP/1.1\" 200 -\n",
      "127.0.0.1 - - [29/Nov/2021 13:08:48] \"POST /_dash-update-component HTTP/1.1\" 200 -\n",
      "127.0.0.1 - - [29/Nov/2021 13:09:22] \"GET / HTTP/1.1\" 200 -\n",
      "127.0.0.1 - - [29/Nov/2021 13:09:22] \"GET /_dash-layout HTTP/1.1\" 200 -\n",
      "127.0.0.1 - - [29/Nov/2021 13:09:22] \"GET /_dash-dependencies HTTP/1.1\" 200 -\n",
      "127.0.0.1 - - [29/Nov/2021 13:09:23] \"GET /_dash-component-suites/dash/dcc/async-markdown.js HTTP/1.1\" 200 -\n",
      "127.0.0.1 - - [29/Nov/2021 13:09:23] \"GET /_dash-component-suites/dash/dcc/async-dropdown.js HTTP/1.1\" 200 -\n",
      "127.0.0.1 - - [29/Nov/2021 13:09:23] \"GET /_dash-component-suites/dash/dcc/async-slider.js HTTP/1.1\" 200 -\n",
      "127.0.0.1 - - [29/Nov/2021 13:09:24] \"POST /_dash-update-component HTTP/1.1\" 200 -\n",
      "127.0.0.1 - - [29/Nov/2021 13:09:24] \"POST /_dash-update-component HTTP/1.1\" 200 -\n",
      "127.0.0.1 - - [29/Nov/2021 13:09:24] \"GET /_dash-component-suites/dash/dcc/async-highlight.js HTTP/1.1\" 200 -\n",
      "127.0.0.1 - - [29/Nov/2021 13:09:26] \"POST /_dash-update-component HTTP/1.1\" 200 -\n",
      "127.0.0.1 - - [29/Nov/2021 13:09:28] \"POST /_dash-update-component HTTP/1.1\" 200 -\n",
      "127.0.0.1 - - [29/Nov/2021 13:09:30] \"POST /_dash-update-component HTTP/1.1\" 200 -\n",
      "127.0.0.1 - - [29/Nov/2021 13:09:33] \"POST /_dash-update-component HTTP/1.1\" 200 -\n",
      "127.0.0.1 - - [29/Nov/2021 13:09:34] \"POST /_dash-update-component HTTP/1.1\" 200 -\n",
      "127.0.0.1 - - [29/Nov/2021 13:09:38] \"POST /_dash-update-component HTTP/1.1\" 200 -\n"
     ]
    }
   ],
   "source": [
    "if __name__ == '__main__':\n",
    "    app.run_server(debug=False)  # set false so you can load bigger networks"
   ]
  },
  {
   "cell_type": "code",
   "execution_count": null,
   "id": "8dd28da5",
   "metadata": {},
   "outputs": [],
   "source": []
  },
  {
   "cell_type": "code",
   "execution_count": null,
   "id": "db9cbc36",
   "metadata": {},
   "outputs": [],
   "source": []
  },
  {
   "cell_type": "code",
   "execution_count": null,
   "id": "5d3638fe",
   "metadata": {},
   "outputs": [],
   "source": []
  }
 ],
 "metadata": {
  "kernelspec": {
   "display_name": "Python 3",
   "language": "python",
   "name": "python3"
  },
  "language_info": {
   "codemirror_mode": {
    "name": "ipython",
    "version": 3
   },
   "file_extension": ".py",
   "mimetype": "text/x-python",
   "name": "python",
   "nbconvert_exporter": "python",
   "pygments_lexer": "ipython3",
   "version": "3.8.8"
  }
 },
 "nbformat": 4,
 "nbformat_minor": 5
}
